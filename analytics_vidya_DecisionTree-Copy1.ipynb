{
 "cells": [
  {
   "cell_type": "code",
   "execution_count": 6,
   "metadata": {},
   "outputs": [],
   "source": [
    "import pandas as pd\n",
    "import matplotlib.pyplot as plt\n",
    "import numpy as np\n",
    "%matplotlib inline\n",
    "from scipy.stats import chi2_contingency\n",
    "from sklearn.linear_model import LinearRegression\n",
    "from sklearn.linear_model import LogisticRegression\n",
    "from sklearn.tree import DecisionTreeClassifier\n",
    "from sklearn.ensemble import RandomForestClassifier\n",
    "from pandas_profiling import ProfileReport"
   ]
  },
  {
   "cell_type": "code",
   "execution_count": 7,
   "metadata": {},
   "outputs": [],
   "source": [
    "data=pd.read_csv(r\"C:\\Users\\aflah\\Downloads\\analytics vidya\\train_qnU1GcL.csv\")\n",
    "y_train=pd.read_csv(r\"C:\\Users\\aflah\\Downloads\\analytics vidya\\y_train.csv\") #made a separate csv for y_train with target values\n",
    "id=pd.read_csv(r\"C:\\Users\\aflah\\Downloads\\analytics vidya\\train_id.csv\") #made a separate csv for id\n",
    "data2=pd.read_csv(r\"C:\\Users\\aflah\\Downloads\\analytics vidya\\test_LxCaReE_DvdCKVT1_OJBGAnU.csv\")#test data"
   ]
  },
  {
   "cell_type": "code",
   "execution_count": 55,
   "metadata": {},
   "outputs": [],
   "source": [
    "profile = ProfileReport(data,title='Pandas profiling report')"
   ]
  },
  {
   "cell_type": "code",
   "execution_count": 56,
   "metadata": {},
   "outputs": [
    {
     "data": {
      "application/vnd.jupyter.widget-view+json": {
       "model_id": "16b454387b614630814b47bca53b4cfa",
       "version_major": 2,
       "version_minor": 0
      },
      "text/plain": [
       "Tab(children=(HTML(value='<div id=\"overview-content\" class=\"row variable spacing\">\\n    <div class=\"row\">\\n   …"
      ]
     },
     "metadata": {},
     "output_type": "display_data"
    },
    {
     "data": {
      "text/html": [
       "Report generated with <a href=\"https://github.com/pandas-profiling/pandas-profiling\">pandas-profiling</a>."
      ],
      "text/plain": [
       "<IPython.core.display.HTML object>"
      ]
     },
     "metadata": {},
     "output_type": "display_data"
    }
   ],
   "source": [
    "profile.to_widgets() #generating profile report for the data"
   ]
  },
  {
   "cell_type": "code",
   "execution_count": 53,
   "metadata": {},
   "outputs": [
    {
     "data": {
      "text/html": [
       "<div>\n",
       "<style scoped>\n",
       "    .dataframe tbody tr th:only-of-type {\n",
       "        vertical-align: middle;\n",
       "    }\n",
       "\n",
       "    .dataframe tbody tr th {\n",
       "        vertical-align: top;\n",
       "    }\n",
       "\n",
       "    .dataframe thead th {\n",
       "        text-align: right;\n",
       "    }\n",
       "</style>\n",
       "<table border=\"1\" class=\"dataframe\">\n",
       "  <thead>\n",
       "    <tr style=\"text-align: right;\">\n",
       "      <th></th>\n",
       "      <th>perc_premium_paid_by_cash_credit</th>\n",
       "      <th>age_in_days</th>\n",
       "      <th>Income</th>\n",
       "      <th>Count_3-6_months_late</th>\n",
       "      <th>Count_6-12_months_late</th>\n",
       "      <th>Count_more_than_12_months_late</th>\n",
       "      <th>application_underwriting_score</th>\n",
       "      <th>no_of_premiums_paid</th>\n",
       "      <th>sourcing_channel_A</th>\n",
       "      <th>sourcing_channel_B</th>\n",
       "      <th>sourcing_channel_C</th>\n",
       "      <th>sourcing_channel_D</th>\n",
       "      <th>sourcing_channel_E</th>\n",
       "      <th>residence_area_type_Rural</th>\n",
       "      <th>residence_area_type_Urban</th>\n",
       "    </tr>\n",
       "  </thead>\n",
       "  <tbody>\n",
       "    <tr>\n",
       "      <td>0</td>\n",
       "      <td>0.429</td>\n",
       "      <td>12058</td>\n",
       "      <td>12.780042</td>\n",
       "      <td>0.0</td>\n",
       "      <td>0.0</td>\n",
       "      <td>0.0</td>\n",
       "      <td>99.02</td>\n",
       "      <td>13</td>\n",
       "      <td>0</td>\n",
       "      <td>0</td>\n",
       "      <td>1</td>\n",
       "      <td>0</td>\n",
       "      <td>0</td>\n",
       "      <td>0</td>\n",
       "      <td>1</td>\n",
       "    </tr>\n",
       "    <tr>\n",
       "      <td>1</td>\n",
       "      <td>0.010</td>\n",
       "      <td>21546</td>\n",
       "      <td>12.660804</td>\n",
       "      <td>0.0</td>\n",
       "      <td>0.0</td>\n",
       "      <td>0.0</td>\n",
       "      <td>99.89</td>\n",
       "      <td>21</td>\n",
       "      <td>1</td>\n",
       "      <td>0</td>\n",
       "      <td>0</td>\n",
       "      <td>0</td>\n",
       "      <td>0</td>\n",
       "      <td>0</td>\n",
       "      <td>1</td>\n",
       "    </tr>\n",
       "    <tr>\n",
       "      <td>2</td>\n",
       "      <td>0.917</td>\n",
       "      <td>17531</td>\n",
       "      <td>11.340237</td>\n",
       "      <td>2.0</td>\n",
       "      <td>3.0</td>\n",
       "      <td>1.0</td>\n",
       "      <td>98.69</td>\n",
       "      <td>7</td>\n",
       "      <td>0</td>\n",
       "      <td>0</td>\n",
       "      <td>1</td>\n",
       "      <td>0</td>\n",
       "      <td>0</td>\n",
       "      <td>1</td>\n",
       "      <td>0</td>\n",
       "    </tr>\n",
       "    <tr>\n",
       "      <td>3</td>\n",
       "      <td>0.049</td>\n",
       "      <td>15341</td>\n",
       "      <td>12.431254</td>\n",
       "      <td>0.0</td>\n",
       "      <td>0.0</td>\n",
       "      <td>0.0</td>\n",
       "      <td>99.57</td>\n",
       "      <td>9</td>\n",
       "      <td>1</td>\n",
       "      <td>0</td>\n",
       "      <td>0</td>\n",
       "      <td>0</td>\n",
       "      <td>0</td>\n",
       "      <td>0</td>\n",
       "      <td>1</td>\n",
       "    </tr>\n",
       "    <tr>\n",
       "      <td>4</td>\n",
       "      <td>0.052</td>\n",
       "      <td>31400</td>\n",
       "      <td>12.199451</td>\n",
       "      <td>0.0</td>\n",
       "      <td>0.0</td>\n",
       "      <td>0.0</td>\n",
       "      <td>99.87</td>\n",
       "      <td>12</td>\n",
       "      <td>0</td>\n",
       "      <td>1</td>\n",
       "      <td>0</td>\n",
       "      <td>0</td>\n",
       "      <td>0</td>\n",
       "      <td>0</td>\n",
       "      <td>1</td>\n",
       "    </tr>\n",
       "  </tbody>\n",
       "</table>\n",
       "</div>"
      ],
      "text/plain": [
       "   perc_premium_paid_by_cash_credit  age_in_days     Income  \\\n",
       "0                             0.429        12058  12.780042   \n",
       "1                             0.010        21546  12.660804   \n",
       "2                             0.917        17531  11.340237   \n",
       "3                             0.049        15341  12.431254   \n",
       "4                             0.052        31400  12.199451   \n",
       "\n",
       "   Count_3-6_months_late  Count_6-12_months_late  \\\n",
       "0                    0.0                     0.0   \n",
       "1                    0.0                     0.0   \n",
       "2                    2.0                     3.0   \n",
       "3                    0.0                     0.0   \n",
       "4                    0.0                     0.0   \n",
       "\n",
       "   Count_more_than_12_months_late  application_underwriting_score  \\\n",
       "0                             0.0                           99.02   \n",
       "1                             0.0                           99.89   \n",
       "2                             1.0                           98.69   \n",
       "3                             0.0                           99.57   \n",
       "4                             0.0                           99.87   \n",
       "\n",
       "   no_of_premiums_paid  sourcing_channel_A  sourcing_channel_B  \\\n",
       "0                   13                   0                   0   \n",
       "1                   21                   1                   0   \n",
       "2                    7                   0                   0   \n",
       "3                    9                   1                   0   \n",
       "4                   12                   0                   1   \n",
       "\n",
       "   sourcing_channel_C  sourcing_channel_D  sourcing_channel_E  \\\n",
       "0                   1                   0                   0   \n",
       "1                   0                   0                   0   \n",
       "2                   1                   0                   0   \n",
       "3                   0                   0                   0   \n",
       "4                   0                   0                   0   \n",
       "\n",
       "   residence_area_type_Rural  residence_area_type_Urban  \n",
       "0                          0                          1  \n",
       "1                          0                          1  \n",
       "2                          1                          0  \n",
       "3                          0                          1  \n",
       "4                          0                          1  "
      ]
     },
     "execution_count": 53,
     "metadata": {},
     "output_type": "execute_result"
    }
   ],
   "source": [
    "x_train.head()"
   ]
  },
  {
   "cell_type": "code",
   "execution_count": 9,
   "metadata": {},
   "outputs": [],
   "source": [
    "data=data[data['age_in_days']<34000] #removing age outlier above 34000 days"
   ]
  },
  {
   "cell_type": "code",
   "execution_count": 10,
   "metadata": {},
   "outputs": [],
   "source": [
    "id=data['id']"
   ]
  },
  {
   "cell_type": "code",
   "execution_count": 11,
   "metadata": {},
   "outputs": [
    {
     "data": {
      "text/plain": [
       "0    110936\n",
       "1     41492\n",
       "2     31300\n",
       "3     19415\n",
       "4     99379\n",
       "Name: id, dtype: int64"
      ]
     },
     "execution_count": 11,
     "metadata": {},
     "output_type": "execute_result"
    }
   ],
   "source": [
    "id.head()"
   ]
  },
  {
   "cell_type": "code",
   "execution_count": 12,
   "metadata": {},
   "outputs": [],
   "source": [
    "id.to_csv (r\"C:\\Users\\aflah\\Downloads\\analytics vidya\\train_id.csv\", index = False, header=True) #craeting separate csv for id"
   ]
  },
  {
   "cell_type": "code",
   "execution_count": 13,
   "metadata": {},
   "outputs": [
    {
     "data": {
      "text/plain": [
       "(79809,)"
      ]
     },
     "execution_count": 13,
     "metadata": {},
     "output_type": "execute_result"
    }
   ],
   "source": [
    "target=data['target']\n",
    "target.shape"
   ]
  },
  {
   "cell_type": "code",
   "execution_count": 14,
   "metadata": {},
   "outputs": [],
   "source": [
    "target.to_csv (r\"C:\\Users\\aflah\\Downloads\\analytics vidya\\y_train.csv\", index = False, header=True)"
   ]
  },
  {
   "cell_type": "code",
   "execution_count": 15,
   "metadata": {},
   "outputs": [
    {
     "data": {
      "text/html": [
       "<div>\n",
       "<style scoped>\n",
       "    .dataframe tbody tr th:only-of-type {\n",
       "        vertical-align: middle;\n",
       "    }\n",
       "\n",
       "    .dataframe tbody tr th {\n",
       "        vertical-align: top;\n",
       "    }\n",
       "\n",
       "    .dataframe thead th {\n",
       "        text-align: right;\n",
       "    }\n",
       "</style>\n",
       "<table border=\"1\" class=\"dataframe\">\n",
       "  <thead>\n",
       "    <tr style=\"text-align: right;\">\n",
       "      <th></th>\n",
       "      <th>id</th>\n",
       "      <th>perc_premium_paid_by_cash_credit</th>\n",
       "      <th>age_in_days</th>\n",
       "      <th>Income</th>\n",
       "      <th>Count_3-6_months_late</th>\n",
       "      <th>Count_6-12_months_late</th>\n",
       "      <th>Count_more_than_12_months_late</th>\n",
       "      <th>application_underwriting_score</th>\n",
       "      <th>no_of_premiums_paid</th>\n",
       "      <th>target</th>\n",
       "    </tr>\n",
       "  </thead>\n",
       "  <tbody>\n",
       "    <tr>\n",
       "      <td>id</td>\n",
       "      <td>1.000000</td>\n",
       "      <td>-0.004914</td>\n",
       "      <td>0.004900</td>\n",
       "      <td>-0.001790</td>\n",
       "      <td>-0.005643</td>\n",
       "      <td>-0.002148</td>\n",
       "      <td>0.003402</td>\n",
       "      <td>-0.002217</td>\n",
       "      <td>-0.003258</td>\n",
       "      <td>-0.005097</td>\n",
       "    </tr>\n",
       "    <tr>\n",
       "      <td>perc_premium_paid_by_cash_credit</td>\n",
       "      <td>-0.004914</td>\n",
       "      <td>1.000000</td>\n",
       "      <td>-0.258840</td>\n",
       "      <td>-0.031931</td>\n",
       "      <td>0.214494</td>\n",
       "      <td>0.214978</td>\n",
       "      <td>0.168150</td>\n",
       "      <td>-0.142658</td>\n",
       "      <td>-0.153049</td>\n",
       "      <td>-0.241098</td>\n",
       "    </tr>\n",
       "    <tr>\n",
       "      <td>age_in_days</td>\n",
       "      <td>0.004900</td>\n",
       "      <td>-0.258840</td>\n",
       "      <td>1.000000</td>\n",
       "      <td>0.029673</td>\n",
       "      <td>-0.058201</td>\n",
       "      <td>-0.072713</td>\n",
       "      <td>-0.059368</td>\n",
       "      <td>0.049459</td>\n",
       "      <td>0.177846</td>\n",
       "      <td>0.095286</td>\n",
       "    </tr>\n",
       "    <tr>\n",
       "      <td>Income</td>\n",
       "      <td>-0.001790</td>\n",
       "      <td>-0.031931</td>\n",
       "      <td>0.029673</td>\n",
       "      <td>1.000000</td>\n",
       "      <td>-0.001417</td>\n",
       "      <td>-0.017358</td>\n",
       "      <td>-0.012405</td>\n",
       "      <td>0.085800</td>\n",
       "      <td>0.079025</td>\n",
       "      <td>0.016554</td>\n",
       "    </tr>\n",
       "    <tr>\n",
       "      <td>Count_3-6_months_late</td>\n",
       "      <td>-0.005643</td>\n",
       "      <td>0.214494</td>\n",
       "      <td>-0.058201</td>\n",
       "      <td>-0.001417</td>\n",
       "      <td>1.000000</td>\n",
       "      <td>0.204246</td>\n",
       "      <td>0.296126</td>\n",
       "      <td>-0.082696</td>\n",
       "      <td>0.075752</td>\n",
       "      <td>-0.248835</td>\n",
       "    </tr>\n",
       "    <tr>\n",
       "      <td>Count_6-12_months_late</td>\n",
       "      <td>-0.002148</td>\n",
       "      <td>0.214978</td>\n",
       "      <td>-0.072713</td>\n",
       "      <td>-0.017358</td>\n",
       "      <td>0.204246</td>\n",
       "      <td>1.000000</td>\n",
       "      <td>0.266327</td>\n",
       "      <td>0.004814</td>\n",
       "      <td>-0.093181</td>\n",
       "      <td>-0.286230</td>\n",
       "    </tr>\n",
       "    <tr>\n",
       "      <td>Count_more_than_12_months_late</td>\n",
       "      <td>0.003402</td>\n",
       "      <td>0.168150</td>\n",
       "      <td>-0.059368</td>\n",
       "      <td>-0.012405</td>\n",
       "      <td>0.296126</td>\n",
       "      <td>0.266327</td>\n",
       "      <td>1.000000</td>\n",
       "      <td>-0.031700</td>\n",
       "      <td>-0.021952</td>\n",
       "      <td>-0.240454</td>\n",
       "    </tr>\n",
       "    <tr>\n",
       "      <td>application_underwriting_score</td>\n",
       "      <td>-0.002217</td>\n",
       "      <td>-0.142658</td>\n",
       "      <td>0.049459</td>\n",
       "      <td>0.085800</td>\n",
       "      <td>-0.082696</td>\n",
       "      <td>0.004814</td>\n",
       "      <td>-0.031700</td>\n",
       "      <td>1.000000</td>\n",
       "      <td>-0.270739</td>\n",
       "      <td>0.068685</td>\n",
       "    </tr>\n",
       "    <tr>\n",
       "      <td>no_of_premiums_paid</td>\n",
       "      <td>-0.003258</td>\n",
       "      <td>-0.153049</td>\n",
       "      <td>0.177846</td>\n",
       "      <td>0.079025</td>\n",
       "      <td>0.075752</td>\n",
       "      <td>-0.093181</td>\n",
       "      <td>-0.021952</td>\n",
       "      <td>-0.270739</td>\n",
       "      <td>1.000000</td>\n",
       "      <td>0.022772</td>\n",
       "    </tr>\n",
       "    <tr>\n",
       "      <td>target</td>\n",
       "      <td>-0.005097</td>\n",
       "      <td>-0.241098</td>\n",
       "      <td>0.095286</td>\n",
       "      <td>0.016554</td>\n",
       "      <td>-0.248835</td>\n",
       "      <td>-0.286230</td>\n",
       "      <td>-0.240454</td>\n",
       "      <td>0.068685</td>\n",
       "      <td>0.022772</td>\n",
       "      <td>1.000000</td>\n",
       "    </tr>\n",
       "  </tbody>\n",
       "</table>\n",
       "</div>"
      ],
      "text/plain": [
       "                                        id  perc_premium_paid_by_cash_credit  \\\n",
       "id                                1.000000                         -0.004914   \n",
       "perc_premium_paid_by_cash_credit -0.004914                          1.000000   \n",
       "age_in_days                       0.004900                         -0.258840   \n",
       "Income                           -0.001790                         -0.031931   \n",
       "Count_3-6_months_late            -0.005643                          0.214494   \n",
       "Count_6-12_months_late           -0.002148                          0.214978   \n",
       "Count_more_than_12_months_late    0.003402                          0.168150   \n",
       "application_underwriting_score   -0.002217                         -0.142658   \n",
       "no_of_premiums_paid              -0.003258                         -0.153049   \n",
       "target                           -0.005097                         -0.241098   \n",
       "\n",
       "                                  age_in_days    Income  \\\n",
       "id                                   0.004900 -0.001790   \n",
       "perc_premium_paid_by_cash_credit    -0.258840 -0.031931   \n",
       "age_in_days                          1.000000  0.029673   \n",
       "Income                               0.029673  1.000000   \n",
       "Count_3-6_months_late               -0.058201 -0.001417   \n",
       "Count_6-12_months_late              -0.072713 -0.017358   \n",
       "Count_more_than_12_months_late      -0.059368 -0.012405   \n",
       "application_underwriting_score       0.049459  0.085800   \n",
       "no_of_premiums_paid                  0.177846  0.079025   \n",
       "target                               0.095286  0.016554   \n",
       "\n",
       "                                  Count_3-6_months_late  \\\n",
       "id                                            -0.005643   \n",
       "perc_premium_paid_by_cash_credit               0.214494   \n",
       "age_in_days                                   -0.058201   \n",
       "Income                                        -0.001417   \n",
       "Count_3-6_months_late                          1.000000   \n",
       "Count_6-12_months_late                         0.204246   \n",
       "Count_more_than_12_months_late                 0.296126   \n",
       "application_underwriting_score                -0.082696   \n",
       "no_of_premiums_paid                            0.075752   \n",
       "target                                        -0.248835   \n",
       "\n",
       "                                  Count_6-12_months_late  \\\n",
       "id                                             -0.002148   \n",
       "perc_premium_paid_by_cash_credit                0.214978   \n",
       "age_in_days                                    -0.072713   \n",
       "Income                                         -0.017358   \n",
       "Count_3-6_months_late                           0.204246   \n",
       "Count_6-12_months_late                          1.000000   \n",
       "Count_more_than_12_months_late                  0.266327   \n",
       "application_underwriting_score                  0.004814   \n",
       "no_of_premiums_paid                            -0.093181   \n",
       "target                                         -0.286230   \n",
       "\n",
       "                                  Count_more_than_12_months_late  \\\n",
       "id                                                      0.003402   \n",
       "perc_premium_paid_by_cash_credit                        0.168150   \n",
       "age_in_days                                            -0.059368   \n",
       "Income                                                 -0.012405   \n",
       "Count_3-6_months_late                                   0.296126   \n",
       "Count_6-12_months_late                                  0.266327   \n",
       "Count_more_than_12_months_late                          1.000000   \n",
       "application_underwriting_score                         -0.031700   \n",
       "no_of_premiums_paid                                    -0.021952   \n",
       "target                                                 -0.240454   \n",
       "\n",
       "                                  application_underwriting_score  \\\n",
       "id                                                     -0.002217   \n",
       "perc_premium_paid_by_cash_credit                       -0.142658   \n",
       "age_in_days                                             0.049459   \n",
       "Income                                                  0.085800   \n",
       "Count_3-6_months_late                                  -0.082696   \n",
       "Count_6-12_months_late                                  0.004814   \n",
       "Count_more_than_12_months_late                         -0.031700   \n",
       "application_underwriting_score                          1.000000   \n",
       "no_of_premiums_paid                                    -0.270739   \n",
       "target                                                  0.068685   \n",
       "\n",
       "                                  no_of_premiums_paid    target  \n",
       "id                                          -0.003258 -0.005097  \n",
       "perc_premium_paid_by_cash_credit            -0.153049 -0.241098  \n",
       "age_in_days                                  0.177846  0.095286  \n",
       "Income                                       0.079025  0.016554  \n",
       "Count_3-6_months_late                        0.075752 -0.248835  \n",
       "Count_6-12_months_late                      -0.093181 -0.286230  \n",
       "Count_more_than_12_months_late              -0.021952 -0.240454  \n",
       "application_underwriting_score              -0.270739  0.068685  \n",
       "no_of_premiums_paid                          1.000000  0.022772  \n",
       "target                                       0.022772  1.000000  "
      ]
     },
     "execution_count": 15,
     "metadata": {},
     "output_type": "execute_result"
    }
   ],
   "source": [
    "data.corr() #finding correlation"
   ]
  },
  {
   "cell_type": "code",
   "execution_count": 16,
   "metadata": {},
   "outputs": [],
   "source": [
    "del data['id']"
   ]
  },
  {
   "cell_type": "code",
   "execution_count": 17,
   "metadata": {},
   "outputs": [],
   "source": [
    "del data['target']"
   ]
  },
  {
   "cell_type": "code",
   "execution_count": 18,
   "metadata": {},
   "outputs": [],
   "source": [
    "x_train=data"
   ]
  },
  {
   "cell_type": "code",
   "execution_count": 19,
   "metadata": {},
   "outputs": [],
   "source": [
    "test_id=data2['id']"
   ]
  },
  {
   "cell_type": "code",
   "execution_count": 20,
   "metadata": {},
   "outputs": [
    {
     "data": {
      "text/plain": [
       "0      649\n",
       "1    81136\n",
       "2    70762\n",
       "3    53935\n",
       "4    15476\n",
       "Name: id, dtype: int64"
      ]
     },
     "execution_count": 20,
     "metadata": {},
     "output_type": "execute_result"
    }
   ],
   "source": [
    "test_id.head()"
   ]
  },
  {
   "cell_type": "code",
   "execution_count": 21,
   "metadata": {},
   "outputs": [],
   "source": [
    "x_test=data2.drop('id',axis=1)"
   ]
  },
  {
   "cell_type": "code",
   "execution_count": 22,
   "metadata": {},
   "outputs": [
    {
     "data": {
      "text/plain": [
       "(79809, 10)"
      ]
     },
     "execution_count": 22,
     "metadata": {},
     "output_type": "execute_result"
    }
   ],
   "source": [
    "x_train.shape"
   ]
  },
  {
   "cell_type": "code",
   "execution_count": 23,
   "metadata": {},
   "outputs": [
    {
     "data": {
      "text/plain": [
       "(34224, 10)"
      ]
     },
     "execution_count": 23,
     "metadata": {},
     "output_type": "execute_result"
    }
   ],
   "source": [
    "x_test.shape"
   ]
  },
  {
   "cell_type": "code",
   "execution_count": 26,
   "metadata": {},
   "outputs": [],
   "source": [
    "a=np.power(x_train['application_underwriting_score'],1/2) #variable transformation for application underwriting score"
   ]
  },
  {
   "cell_type": "code",
   "execution_count": 27,
   "metadata": {},
   "outputs": [
    {
     "data": {
      "text/plain": [
       "<matplotlib.axes._subplots.AxesSubplot at 0x14651fbae88>"
      ]
     },
     "execution_count": 27,
     "metadata": {},
     "output_type": "execute_result"
    },
    {
     "data": {
      "image/png": "[encoded data removed]",
      "text/plain": [
       "<Figure size 432x288 with 1 Axes>"
      ]
     },
     "metadata": {
      "needs_background": "light"
     },
     "output_type": "display_data"
    }
   ],
   "source": [
    "x_train['application_underwriting_score'].plot.hist()"
   ]
  },
  {
   "cell_type": "code",
   "execution_count": 28,
   "metadata": {},
   "outputs": [
    {
     "data": {
      "text/plain": [
       "<matplotlib.axes._subplots.AxesSubplot at 0x146521178c8>"
      ]
     },
     "execution_count": 28,
     "metadata": {},
     "output_type": "execute_result"
    },
    {
     "data": {
      "image/png": "[encoded data removed]",
      "text/plain": [
       "<Figure size 432x288 with 1 Axes>"
      ]
     },
     "metadata": {
      "needs_background": "light"
     },
     "output_type": "display_data"
    }
   ],
   "source": [
    "a.plot.hist()"
   ]
  },
  {
   "cell_type": "code",
   "execution_count": 29,
   "metadata": {},
   "outputs": [
    {
     "data": {
      "text/plain": [
       "<matplotlib.axes._subplots.AxesSubplot at 0x14652b1ac48>"
      ]
     },
     "execution_count": 29,
     "metadata": {},
     "output_type": "execute_result"
    },
    {
     "data": {
      "image/png": "[encoded data removed]",
      "text/plain": [
       "<Figure size 432x288 with 1 Axes>"
      ]
     },
     "metadata": {
      "needs_background": "light"
     },
     "output_type": "display_data"
    }
   ],
   "source": [
    "x_train['application_underwriting_score'].plot.box()"
   ]
  },
  {
   "cell_type": "code",
   "execution_count": 30,
   "metadata": {},
   "outputs": [],
   "source": [
    "\n",
    "x_train=pd.get_dummies(x_train)\n",
    "x_test=pd.get_dummies(x_test)"
   ]
  },
  {
   "cell_type": "code",
   "execution_count": 54,
   "metadata": {},
   "outputs": [
    {
     "data": {
      "text/plain": [
       "perc_premium_paid_by_cash_credit    0\n",
       "age_in_days                         0\n",
       "Income                              0\n",
       "Count_3-6_months_late               0\n",
       "Count_6-12_months_late              0\n",
       "Count_more_than_12_months_late      0\n",
       "application_underwriting_score      0\n",
       "no_of_premiums_paid                 0\n",
       "sourcing_channel_A                  0\n",
       "sourcing_channel_B                  0\n",
       "sourcing_channel_C                  0\n",
       "sourcing_channel_D                  0\n",
       "sourcing_channel_E                  0\n",
       "residence_area_type_Rural           0\n",
       "residence_area_type_Urban           0\n",
       "dtype: int64"
      ]
     },
     "execution_count": 54,
     "metadata": {},
     "output_type": "execute_result"
    }
   ],
   "source": [
    "x_train.isnull().sum()"
   ]
  },
  {
   "cell_type": "code",
   "execution_count": 32,
   "metadata": {},
   "outputs": [],
   "source": [
    "#filling the missing values for train\n",
    "x_train['Count_3-6_months_late'].fillna(0 , inplace=True)\n",
    "x_train['Count_6-12_months_late'].fillna(0 , inplace=True)\n",
    "x_train['Count_more_than_12_months_late'].fillna(0 , inplace=True)\n",
    "x_train['application_underwriting_score'].fillna(data2['application_underwriting_score'].median() , inplace=True)"
   ]
  },
  {
   "cell_type": "code",
   "execution_count": 33,
   "metadata": {},
   "outputs": [],
   "source": [
    "#filling the missing values for test\n",
    "x_test['Count_3-6_months_late'].fillna(0 , inplace=True)\n",
    "x_test['Count_6-12_months_late'].fillna(0 , inplace=True)\n",
    "x_test['Count_more_than_12_months_late'].fillna(0 , inplace=True)\n",
    "x_test['application_underwriting_score'].fillna(data2['application_underwriting_score'].median() , inplace=True)"
   ]
  },
  {
   "cell_type": "code",
   "execution_count": 34,
   "metadata": {},
   "outputs": [
    {
     "data": {
      "text/plain": [
       "perc_premium_paid_by_cash_credit    0\n",
       "age_in_days                         0\n",
       "Income                              0\n",
       "Count_3-6_months_late               0\n",
       "Count_6-12_months_late              0\n",
       "Count_more_than_12_months_late      0\n",
       "application_underwriting_score      0\n",
       "no_of_premiums_paid                 0\n",
       "sourcing_channel_A                  0\n",
       "sourcing_channel_B                  0\n",
       "sourcing_channel_C                  0\n",
       "sourcing_channel_D                  0\n",
       "sourcing_channel_E                  0\n",
       "residence_area_type_Rural           0\n",
       "residence_area_type_Urban           0\n",
       "dtype: int64"
      ]
     },
     "execution_count": 34,
     "metadata": {},
     "output_type": "execute_result"
    }
   ],
   "source": [
    "x_test.isnull().sum()"
   ]
  },
  {
   "cell_type": "code",
   "execution_count": 35,
   "metadata": {},
   "outputs": [
    {
     "data": {
      "text/plain": [
       "0.04462491310151636"
      ]
     },
     "execution_count": 35,
     "metadata": {},
     "output_type": "execute_result"
    }
   ],
   "source": [
    "#logarithm variable transformation for income \n",
    "x_train['Income']=np.log(x_train['Income'])\n",
    "x_train['Income'].skew()"
   ]
  },
  {
   "cell_type": "code",
   "execution_count": 37,
   "metadata": {},
   "outputs": [
    {
     "data": {
      "text/plain": [
       "<matplotlib.axes._subplots.AxesSubplot at 0x14652bc0cc8>"
      ]
     },
     "execution_count": 37,
     "metadata": {},
     "output_type": "execute_result"
    },
    {
     "data": {
      "image/png": "[encoded data removed]",
      "text/plain": [
       "<Figure size 432x288 with 1 Axes>"
      ]
     },
     "metadata": {
      "needs_background": "light"
     },
     "output_type": "display_data"
    }
   ],
   "source": [
    "x_train['age_in_days'].plot.box()"
   ]
  },
  {
   "cell_type": "code",
   "execution_count": 42,
   "metadata": {},
   "outputs": [],
   "source": [
    "lreg=LinearRegression()\n",
    "logreg=LogisticRegression(solver='liblinear')\n",
    "dtree=DecisionTreeClassifier( criterion='entropy',max_depth=10 ,min_samples_split=10) #changing parameters"
   ]
  },
  {
   "cell_type": "code",
   "execution_count": 43,
   "metadata": {},
   "outputs": [
    {
     "data": {
      "text/plain": [
       "(79809, 15)"
      ]
     },
     "execution_count": 43,
     "metadata": {},
     "output_type": "execute_result"
    }
   ],
   "source": [
    "x_train.shape"
   ]
  },
  {
   "cell_type": "code",
   "execution_count": 44,
   "metadata": {},
   "outputs": [
    {
     "data": {
      "text/plain": [
       "DecisionTreeClassifier(class_weight=None, criterion='entropy', max_depth=10,\n",
       "                       max_features=None, max_leaf_nodes=None,\n",
       "                       min_impurity_decrease=0.0, min_impurity_split=None,\n",
       "                       min_samples_leaf=1, min_samples_split=10,\n",
       "                       min_weight_fraction_leaf=0.0, presort=False,\n",
       "                       random_state=None, splitter='best')"
      ]
     },
     "execution_count": 44,
     "metadata": {},
     "output_type": "execute_result"
    }
   ],
   "source": [
    "dtree.fit(x_train,y_train) #fitting for decision tree classifier"
   ]
  },
  {
   "cell_type": "code",
   "execution_count": 45,
   "metadata": {},
   "outputs": [
    {
     "data": {
      "text/html": [
       "<div>\n",
       "<style scoped>\n",
       "    .dataframe tbody tr th:only-of-type {\n",
       "        vertical-align: middle;\n",
       "    }\n",
       "\n",
       "    .dataframe tbody tr th {\n",
       "        vertical-align: top;\n",
       "    }\n",
       "\n",
       "    .dataframe thead th {\n",
       "        text-align: right;\n",
       "    }\n",
       "</style>\n",
       "<table border=\"1\" class=\"dataframe\">\n",
       "  <thead>\n",
       "    <tr style=\"text-align: right;\">\n",
       "      <th></th>\n",
       "      <th>perc_premium_paid_by_cash_credit</th>\n",
       "      <th>age_in_days</th>\n",
       "      <th>Income</th>\n",
       "      <th>Count_3-6_months_late</th>\n",
       "      <th>Count_6-12_months_late</th>\n",
       "      <th>Count_more_than_12_months_late</th>\n",
       "      <th>application_underwriting_score</th>\n",
       "      <th>no_of_premiums_paid</th>\n",
       "      <th>sourcing_channel_A</th>\n",
       "      <th>sourcing_channel_B</th>\n",
       "      <th>sourcing_channel_C</th>\n",
       "      <th>sourcing_channel_D</th>\n",
       "      <th>sourcing_channel_E</th>\n",
       "      <th>residence_area_type_Rural</th>\n",
       "      <th>residence_area_type_Urban</th>\n",
       "    </tr>\n",
       "  </thead>\n",
       "  <tbody>\n",
       "    <tr>\n",
       "      <td>0</td>\n",
       "      <td>0.001</td>\n",
       "      <td>27384</td>\n",
       "      <td>51150</td>\n",
       "      <td>0.0</td>\n",
       "      <td>0.0</td>\n",
       "      <td>0.0</td>\n",
       "      <td>99.89</td>\n",
       "      <td>7</td>\n",
       "      <td>1</td>\n",
       "      <td>0</td>\n",
       "      <td>0</td>\n",
       "      <td>0</td>\n",
       "      <td>0</td>\n",
       "      <td>1</td>\n",
       "      <td>0</td>\n",
       "    </tr>\n",
       "    <tr>\n",
       "      <td>1</td>\n",
       "      <td>0.124</td>\n",
       "      <td>23735</td>\n",
       "      <td>285140</td>\n",
       "      <td>0.0</td>\n",
       "      <td>0.0</td>\n",
       "      <td>0.0</td>\n",
       "      <td>98.93</td>\n",
       "      <td>19</td>\n",
       "      <td>1</td>\n",
       "      <td>0</td>\n",
       "      <td>0</td>\n",
       "      <td>0</td>\n",
       "      <td>0</td>\n",
       "      <td>0</td>\n",
       "      <td>1</td>\n",
       "    </tr>\n",
       "    <tr>\n",
       "      <td>2</td>\n",
       "      <td>1.000</td>\n",
       "      <td>17170</td>\n",
       "      <td>186030</td>\n",
       "      <td>0.0</td>\n",
       "      <td>0.0</td>\n",
       "      <td>0.0</td>\n",
       "      <td>99.21</td>\n",
       "      <td>2</td>\n",
       "      <td>0</td>\n",
       "      <td>1</td>\n",
       "      <td>0</td>\n",
       "      <td>0</td>\n",
       "      <td>0</td>\n",
       "      <td>0</td>\n",
       "      <td>1</td>\n",
       "    </tr>\n",
       "    <tr>\n",
       "      <td>3</td>\n",
       "      <td>0.198</td>\n",
       "      <td>16068</td>\n",
       "      <td>123540</td>\n",
       "      <td>0.0</td>\n",
       "      <td>0.0</td>\n",
       "      <td>0.0</td>\n",
       "      <td>99.00</td>\n",
       "      <td>11</td>\n",
       "      <td>0</td>\n",
       "      <td>1</td>\n",
       "      <td>0</td>\n",
       "      <td>0</td>\n",
       "      <td>0</td>\n",
       "      <td>1</td>\n",
       "      <td>0</td>\n",
       "    </tr>\n",
       "    <tr>\n",
       "      <td>4</td>\n",
       "      <td>0.041</td>\n",
       "      <td>10591</td>\n",
       "      <td>200020</td>\n",
       "      <td>1.0</td>\n",
       "      <td>0.0</td>\n",
       "      <td>0.0</td>\n",
       "      <td>99.17</td>\n",
       "      <td>14</td>\n",
       "      <td>1</td>\n",
       "      <td>0</td>\n",
       "      <td>0</td>\n",
       "      <td>0</td>\n",
       "      <td>0</td>\n",
       "      <td>1</td>\n",
       "      <td>0</td>\n",
       "    </tr>\n",
       "    <tr>\n",
       "      <td>...</td>\n",
       "      <td>...</td>\n",
       "      <td>...</td>\n",
       "      <td>...</td>\n",
       "      <td>...</td>\n",
       "      <td>...</td>\n",
       "      <td>...</td>\n",
       "      <td>...</td>\n",
       "      <td>...</td>\n",
       "      <td>...</td>\n",
       "      <td>...</td>\n",
       "      <td>...</td>\n",
       "      <td>...</td>\n",
       "      <td>...</td>\n",
       "      <td>...</td>\n",
       "      <td>...</td>\n",
       "    </tr>\n",
       "    <tr>\n",
       "      <td>34219</td>\n",
       "      <td>0.227</td>\n",
       "      <td>20810</td>\n",
       "      <td>110240</td>\n",
       "      <td>0.0</td>\n",
       "      <td>0.0</td>\n",
       "      <td>0.0</td>\n",
       "      <td>97.52</td>\n",
       "      <td>9</td>\n",
       "      <td>1</td>\n",
       "      <td>0</td>\n",
       "      <td>0</td>\n",
       "      <td>0</td>\n",
       "      <td>0</td>\n",
       "      <td>0</td>\n",
       "      <td>1</td>\n",
       "    </tr>\n",
       "    <tr>\n",
       "      <td>34220</td>\n",
       "      <td>0.157</td>\n",
       "      <td>19353</td>\n",
       "      <td>125090</td>\n",
       "      <td>0.0</td>\n",
       "      <td>0.0</td>\n",
       "      <td>0.0</td>\n",
       "      <td>99.62</td>\n",
       "      <td>7</td>\n",
       "      <td>1</td>\n",
       "      <td>0</td>\n",
       "      <td>0</td>\n",
       "      <td>0</td>\n",
       "      <td>0</td>\n",
       "      <td>1</td>\n",
       "      <td>0</td>\n",
       "    </tr>\n",
       "    <tr>\n",
       "      <td>34221</td>\n",
       "      <td>0.325</td>\n",
       "      <td>18264</td>\n",
       "      <td>196570</td>\n",
       "      <td>0.0</td>\n",
       "      <td>0.0</td>\n",
       "      <td>0.0</td>\n",
       "      <td>98.58</td>\n",
       "      <td>14</td>\n",
       "      <td>0</td>\n",
       "      <td>1</td>\n",
       "      <td>0</td>\n",
       "      <td>0</td>\n",
       "      <td>0</td>\n",
       "      <td>1</td>\n",
       "      <td>0</td>\n",
       "    </tr>\n",
       "    <tr>\n",
       "      <td>34222</td>\n",
       "      <td>0.983</td>\n",
       "      <td>16798</td>\n",
       "      <td>212150</td>\n",
       "      <td>1.0</td>\n",
       "      <td>0.0</td>\n",
       "      <td>1.0</td>\n",
       "      <td>98.88</td>\n",
       "      <td>10</td>\n",
       "      <td>1</td>\n",
       "      <td>0</td>\n",
       "      <td>0</td>\n",
       "      <td>0</td>\n",
       "      <td>0</td>\n",
       "      <td>0</td>\n",
       "      <td>1</td>\n",
       "    </tr>\n",
       "    <tr>\n",
       "      <td>34223</td>\n",
       "      <td>0.005</td>\n",
       "      <td>24467</td>\n",
       "      <td>89190</td>\n",
       "      <td>1.0</td>\n",
       "      <td>0.0</td>\n",
       "      <td>0.0</td>\n",
       "      <td>98.00</td>\n",
       "      <td>11</td>\n",
       "      <td>1</td>\n",
       "      <td>0</td>\n",
       "      <td>0</td>\n",
       "      <td>0</td>\n",
       "      <td>0</td>\n",
       "      <td>0</td>\n",
       "      <td>1</td>\n",
       "    </tr>\n",
       "  </tbody>\n",
       "</table>\n",
       "<p>34224 rows × 15 columns</p>\n",
       "</div>"
      ],
      "text/plain": [
       "       perc_premium_paid_by_cash_credit  age_in_days  Income  \\\n",
       "0                                 0.001        27384   51150   \n",
       "1                                 0.124        23735  285140   \n",
       "2                                 1.000        17170  186030   \n",
       "3                                 0.198        16068  123540   \n",
       "4                                 0.041        10591  200020   \n",
       "...                                 ...          ...     ...   \n",
       "34219                             0.227        20810  110240   \n",
       "34220                             0.157        19353  125090   \n",
       "34221                             0.325        18264  196570   \n",
       "34222                             0.983        16798  212150   \n",
       "34223                             0.005        24467   89190   \n",
       "\n",
       "       Count_3-6_months_late  Count_6-12_months_late  \\\n",
       "0                        0.0                     0.0   \n",
       "1                        0.0                     0.0   \n",
       "2                        0.0                     0.0   \n",
       "3                        0.0                     0.0   \n",
       "4                        1.0                     0.0   \n",
       "...                      ...                     ...   \n",
       "34219                    0.0                     0.0   \n",
       "34220                    0.0                     0.0   \n",
       "34221                    0.0                     0.0   \n",
       "34222                    1.0                     0.0   \n",
       "34223                    1.0                     0.0   \n",
       "\n",
       "       Count_more_than_12_months_late  application_underwriting_score  \\\n",
       "0                                 0.0                           99.89   \n",
       "1                                 0.0                           98.93   \n",
       "2                                 0.0                           99.21   \n",
       "3                                 0.0                           99.00   \n",
       "4                                 0.0                           99.17   \n",
       "...                               ...                             ...   \n",
       "34219                             0.0                           97.52   \n",
       "34220                             0.0                           99.62   \n",
       "34221                             0.0                           98.58   \n",
       "34222                             1.0                           98.88   \n",
       "34223                             0.0                           98.00   \n",
       "\n",
       "       no_of_premiums_paid  sourcing_channel_A  sourcing_channel_B  \\\n",
       "0                        7                   1                   0   \n",
       "1                       19                   1                   0   \n",
       "2                        2                   0                   1   \n",
       "3                       11                   0                   1   \n",
       "4                       14                   1                   0   \n",
       "...                    ...                 ...                 ...   \n",
       "34219                    9                   1                   0   \n",
       "34220                    7                   1                   0   \n",
       "34221                   14                   0                   1   \n",
       "34222                   10                   1                   0   \n",
       "34223                   11                   1                   0   \n",
       "\n",
       "       sourcing_channel_C  sourcing_channel_D  sourcing_channel_E  \\\n",
       "0                       0                   0                   0   \n",
       "1                       0                   0                   0   \n",
       "2                       0                   0                   0   \n",
       "3                       0                   0                   0   \n",
       "4                       0                   0                   0   \n",
       "...                   ...                 ...                 ...   \n",
       "34219                   0                   0                   0   \n",
       "34220                   0                   0                   0   \n",
       "34221                   0                   0                   0   \n",
       "34222                   0                   0                   0   \n",
       "34223                   0                   0                   0   \n",
       "\n",
       "       residence_area_type_Rural  residence_area_type_Urban  \n",
       "0                              1                          0  \n",
       "1                              0                          1  \n",
       "2                              0                          1  \n",
       "3                              1                          0  \n",
       "4                              1                          0  \n",
       "...                          ...                        ...  \n",
       "34219                          0                          1  \n",
       "34220                          1                          0  \n",
       "34221                          1                          0  \n",
       "34222                          0                          1  \n",
       "34223                          0                          1  \n",
       "\n",
       "[34224 rows x 15 columns]"
      ]
     },
     "execution_count": 45,
     "metadata": {},
     "output_type": "execute_result"
    }
   ],
   "source": [
    "x_test"
   ]
  },
  {
   "cell_type": "code",
   "execution_count": 46,
   "metadata": {},
   "outputs": [],
   "source": [
    "#predictions for test case\n",
    "pred=dtree.predict(x_test) "
   ]
  },
  {
   "cell_type": "code",
   "execution_count": 47,
   "metadata": {},
   "outputs": [
    {
     "data": {
      "text/plain": [
       "0.9454071595935295"
      ]
     },
     "execution_count": 47,
     "metadata": {},
     "output_type": "execute_result"
    }
   ],
   "source": [
    "#score for the training data\n",
    "dtree.score(x_train,y_train)"
   ]
  },
  {
   "cell_type": "code",
   "execution_count": 48,
   "metadata": {},
   "outputs": [],
   "source": [
    "pred=pd.DataFrame(pred)"
   ]
  },
  {
   "cell_type": "code",
   "execution_count": 49,
   "metadata": {},
   "outputs": [],
   "source": [
    "#making the submission format of id and predicted target\n",
    "pred['id']=data2['id']\n",
    "pred.columns=['target','id']\n",
    "pred = pred[['id','target']]"
   ]
  },
  {
   "cell_type": "code",
   "execution_count": 50,
   "metadata": {},
   "outputs": [
    {
     "data": {
      "text/html": [
       "<div>\n",
       "<style scoped>\n",
       "    .dataframe tbody tr th:only-of-type {\n",
       "        vertical-align: middle;\n",
       "    }\n",
       "\n",
       "    .dataframe tbody tr th {\n",
       "        vertical-align: top;\n",
       "    }\n",
       "\n",
       "    .dataframe thead th {\n",
       "        text-align: right;\n",
       "    }\n",
       "</style>\n",
       "<table border=\"1\" class=\"dataframe\">\n",
       "  <thead>\n",
       "    <tr style=\"text-align: right;\">\n",
       "      <th></th>\n",
       "      <th>id</th>\n",
       "      <th>target</th>\n",
       "    </tr>\n",
       "  </thead>\n",
       "  <tbody>\n",
       "    <tr>\n",
       "      <td>0</td>\n",
       "      <td>649</td>\n",
       "      <td>1</td>\n",
       "    </tr>\n",
       "    <tr>\n",
       "      <td>1</td>\n",
       "      <td>81136</td>\n",
       "      <td>1</td>\n",
       "    </tr>\n",
       "    <tr>\n",
       "      <td>2</td>\n",
       "      <td>70762</td>\n",
       "      <td>1</td>\n",
       "    </tr>\n",
       "    <tr>\n",
       "      <td>3</td>\n",
       "      <td>53935</td>\n",
       "      <td>1</td>\n",
       "    </tr>\n",
       "    <tr>\n",
       "      <td>4</td>\n",
       "      <td>15476</td>\n",
       "      <td>1</td>\n",
       "    </tr>\n",
       "    <tr>\n",
       "      <td>5</td>\n",
       "      <td>64797</td>\n",
       "      <td>1</td>\n",
       "    </tr>\n",
       "    <tr>\n",
       "      <td>6</td>\n",
       "      <td>67412</td>\n",
       "      <td>1</td>\n",
       "    </tr>\n",
       "    <tr>\n",
       "      <td>7</td>\n",
       "      <td>44241</td>\n",
       "      <td>1</td>\n",
       "    </tr>\n",
       "    <tr>\n",
       "      <td>8</td>\n",
       "      <td>5069</td>\n",
       "      <td>1</td>\n",
       "    </tr>\n",
       "    <tr>\n",
       "      <td>9</td>\n",
       "      <td>16615</td>\n",
       "      <td>1</td>\n",
       "    </tr>\n",
       "  </tbody>\n",
       "</table>\n",
       "</div>"
      ],
      "text/plain": [
       "      id  target\n",
       "0    649       1\n",
       "1  81136       1\n",
       "2  70762       1\n",
       "3  53935       1\n",
       "4  15476       1\n",
       "5  64797       1\n",
       "6  67412       1\n",
       "7  44241       1\n",
       "8   5069       1\n",
       "9  16615       1"
      ]
     },
     "execution_count": 50,
     "metadata": {},
     "output_type": "execute_result"
    }
   ],
   "source": [
    "pred.head(10)"
   ]
  },
  {
   "cell_type": "code",
   "execution_count": 51,
   "metadata": {},
   "outputs": [],
   "source": [
    "#saving of the submission csv\n",
    "pred.to_csv (r\"C:\\Users\\aflah\\Downloads\\analytics vidya\\pred15.csv\", index = False, header=True)"
   ]
  }
 ],
 "metadata": {
  "kernelspec": {
   "display_name": "Python 3",
   "language": "python",
   "name": "python3"
  },
  "language_info": {
   "codemirror_mode": {
    "name": "ipython",
    "version": 3
   },
   "file_extension": ".py",
   "mimetype": "text/x-python",
   "name": "python",
   "nbconvert_exporter": "python",
   "pygments_lexer": "ipython3",
   "version": "3.7.4"
  }
 },
 "nbformat": 4,
 "nbformat_minor": 2
}
